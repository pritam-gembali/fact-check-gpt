{
 "cells": [
  {
   "cell_type": "code",
   "execution_count": 1,
   "metadata": {},
   "outputs": [],
   "source": [
    "import openai"
   ]
  },
  {
   "cell_type": "code",
   "execution_count": 16,
   "metadata": {},
   "outputs": [],
   "source": [
    "def parse_with_gpt (input_text: str, max_tokens: int = 1500) -> dict:\n",
    "\t\"\"\"\n",
    "\t\tThis function utilizes the new gpt-3.5-turbo model that powers chatGPT\n",
    "\t\tArgs: \n",
    "\t\t\tinput_text: the input text along with the prompt that we want to pass to GPT\n",
    "\t\t\tmax_tokens: the maximum number of tokens that we want in the completion\n",
    "\t\tReturns:\n",
    "\t\t\tThe JSON data extracted from the text by GPT\n",
    "\t\"\"\"\n",
    "\n",
    "\tresults = openai.ChatCompletion.create(\n",
    "\t\tmodel= \"gpt-3.5-turbo\", \n",
    "\t\tmessages=[{\n",
    "\t\t\t\"role\": \"user\", \n",
    "\t\t\t\"content\": input_text\n",
    "\t\t}],\n",
    "\t\ttemperature=0.0,\n",
    "\t)\n",
    "\treturn results['choices'][-1]['message']['content']"
   ]
  },
  {
   "cell_type": "code",
   "execution_count": 17,
   "metadata": {},
   "outputs": [
    {
     "data": {
      "text/plain": [
       "\"India's capital is New Delhi.\""
      ]
     },
     "execution_count": 17,
     "metadata": {},
     "output_type": "execute_result"
    }
   ],
   "source": [
    "parse_with_gpt(\"What is India's capital?\")"
   ]
  },
  {
   "cell_type": "code",
   "execution_count": null,
   "metadata": {},
   "outputs": [],
   "source": []
  }
 ],
 "metadata": {
  "kernelspec": {
   "display_name": "base",
   "language": "python",
   "name": "python3"
  },
  "language_info": {
   "codemirror_mode": {
    "name": "ipython",
    "version": 3
   },
   "file_extension": ".py",
   "mimetype": "text/x-python",
   "name": "python",
   "nbconvert_exporter": "python",
   "pygments_lexer": "ipython3",
   "version": "3.8.8"
  },
  "orig_nbformat": 4
 },
 "nbformat": 4,
 "nbformat_minor": 2
}
